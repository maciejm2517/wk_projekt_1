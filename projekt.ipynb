{
 "cells": [
  {
   "cell_type": "markdown",
   "metadata": {},
   "source": [
    "Wstępny kod z funkcjami, ktorych nie mozemy uzywac, zeby zobaczyc czy wyjdzie"
   ]
  },
  {
   "cell_type": "code",
   "execution_count": 36,
   "metadata": {},
   "outputs": [
    {
     "name": "stdout",
     "output_type": "stream",
     "text": [
      "good\n"
     ]
    },
    {
     "data": {
      "text/plain": [
       "True"
      ]
     },
     "execution_count": 36,
     "metadata": {},
     "output_type": "execute_result"
    }
   ],
   "source": [
    "import cv2\n",
    "import numpy as np\n",
    "\n",
    "# Ładowanie wszystkich 5 obrazów i usuwanie ludzi\n",
    "images = []\n",
    "for i in range(1, 6):\n",
    "    image_path = f\"cathedral/d00{i}.jpg\"\n",
    "    img = cv2.imread(image_path)\n",
    "    images.append(img)\n",
    "\n",
    "# Obliczanie współrzędnych punktów, w których obrazy zostaną nakładane na siebie\n",
    "height, width, _ = images[0].shape\n",
    "combined_image = np.zeros((height, width, 3), dtype=np.uint8)\n",
    "kernel = np.ones((4, 4), np.uint8) \n",
    "\n",
    "\n",
    "# Znajdowanie najczęstszego piksela dla każdego piksela pomiędzy obrazami\n",
    "for y in range(height):\n",
    "    for x in range(width):\n",
    "        pixel_values = [tuple(img[y, x]) for img in images]\n",
    "        most_frequent_value = max(set(pixel_values), key=pixel_values.count)\n",
    "        combined_image[y, x] = most_frequent_value\n",
    "print('good')\n",
    "# Calculate histogram of the combined image\n",
    "histogram = cv2.calcHist([combined_image], [0, 1, 2], None, [256, 256, 256], [0, 256, 0, 256, 0, 256])\n",
    "\n",
    "# Find the peak(s) in the histogram\n",
    "peaks = np.where(histogram > np.max(histogram) * 0.007) #Mozna pobawic sie jak duze peaki ma wylapywac zmieniajac liczbe ktora mnozymy, dobre sa z zakresu 0.01 - 0.004\n",
    "\n",
    "# Customized mask based on color similarity \n",
    "# testowa maska ktora probuje brac pod uwage podobienstwo kolorow, bardzo powolna i nawet nie zdazylem jej odpalic\n",
    "\n",
    "mask = np.zeros((height, width), dtype=np.uint8)\n",
    "\n",
    "# Threshold the image based on the peak values \n",
    "#prosta maska ktora tylko usuwa peaki, dziala okej\n",
    "mask = np.zeros((height, width), dtype=np.uint8)\n",
    "for i in range(len(peaks[0])):\n",
    "    mask[np.where((combined_image[:, :, 0] == peaks[0][i]) & (combined_image[:, :, 1] == peaks[1][i]) & (combined_image[:, :, 2] == peaks[2][i]))] = 255\n",
    "\n",
    "# Apply the mask to remove unwanted pixels\n",
    "result_image = cv2.bitwise_and(combined_image, combined_image, mask=mask)\n",
    "#result_image_dil_mean = cv2.medianBlur(cv2.dilate(result_image,kernel),3) #replace this function with mine\n",
    "custom_kernel_size = 4\n",
    "tolerance = 35\n",
    "#najlepiej dla tolerance 35, kernel 4\n",
    "result_image_dil_mean = custom_median_dilate(result_image, custom_kernel_size, tolerance= tolerance)\n",
    "#for i in range(8):\n",
    "#    result_image_dil_mean = custom_median_dilate(result_image_dil_mean, custom_kernel_size)\n",
    "split=350\n",
    "vis = np.concatenate((images[0][:split,:,:], result_image_dil_mean[split:,:,:]), axis=0)\n",
    "\n",
    "# Inpainting to replace removed pixels  #ten inpainting slabo mi dzialal takze trzeba zrobic funkcje do wypelniania\n",
    "#result_image = cv2.inpaint(result_image, mask, inpaintRadius=3, flags=cv2.INPAINT_TELEA)\n",
    "\n",
    "# Zapisanie obrazu bez ludzi\n",
    "# cv2.imwrite(\"combined_no_people_overlaid.jpg\", cv2.filter2D(cv2.dilate(result_image,kernel), -1,kernel/np.sum(kernel)))\n",
    "\n",
    "cv2.imwrite(\"combined_no_people_overlaid.jpg\", vis)"
   ]
  },
  {
   "cell_type": "code",
   "execution_count": 31,
   "metadata": {},
   "outputs": [],
   "source": [
    "def custom_median_dilate(image, kernel_size, tolerance=30):\n",
    "    height, width, _ = image.shape\n",
    "    result = np.copy(image)  # Create a copy of the original image\n",
    "\n",
    "    for _ in range(5):  # Repeat the process multiple times to ensure all black pixels are replaced\n",
    "        for y in range(height):\n",
    "            for x in range(width):\n",
    "                if np.all(np.abs(image[y, x] - [0, 0, 0]) <= tolerance):  # If black pixel within tolerance range\n",
    "                    non_black_pixels = []\n",
    "                    for i in range(-kernel_size, kernel_size + 1):\n",
    "                        for j in range(-kernel_size, kernel_size + 1):\n",
    "                            if 0 <= y + i < height and 0 <= x + j < width and not np.all(np.abs(image[y + i, x + j] - [0, 0, 0]) <= tolerance):\n",
    "                                non_black_pixels.append(image[y + i, x + j])\n",
    "                    if non_black_pixels:  # If there are non-black pixels around\n",
    "                        result[y, x] = np.mean(non_black_pixels, axis=0).astype(np.uint8)\n",
    "                    #else:  # If no non-black pixels around, retain black pixel\n",
    "                        #result[y, x] = [0, 0, 0]\n",
    "                # else:  # If pixel is not black within tolerance range, retain its original value\n",
    "                    # result[y, x] = image[y, x]  # This line is commented out as it's unnecessary\n",
    "        image = np.copy(result)  # Update the image for the next iteration\n",
    "\n",
    "    return result"
   ]
  },
  {
   "cell_type": "markdown",
   "metadata": {},
   "source": [
    "###Od tego momentu eksperymenty Przemka"
   ]
  },
  {
   "cell_type": "code",
   "execution_count": 37,
   "metadata": {},
   "outputs": [],
   "source": [
    "def custom_dilate_with_blur(image, mask, kernel_size, tolerance):\n",
    "    height, width, _ = image.shape\n",
    "    result = np.copy(image)  # Create a copy of the original image\n",
    "    \n",
    "    # Create a kernel for blurring\n",
    "    blur_kernel = np.ones((kernel_size, kernel_size), dtype=np.float32) / (kernel_size ** 2)\n",
    "\n",
    "    for y in range(height):\n",
    "        for x in range(width):\n",
    "            if mask[y, x] == 255:  # If pixel is in the mask (unwanted)\n",
    "                neighborhood = image[max(0, y - kernel_size):min(height, y + kernel_size + 1),\n",
    "                                     max(0, x - kernel_size):min(width, x + kernel_size + 1)]\n",
    "                if np.all(np.abs(neighborhood - [0, 0, 0]) > tolerance):  # If pixel is not black within tolerance range\n",
    "                    blurred_pixel = cv2.filter2D(neighborhood, -1, blur_kernel)[kernel_size // 2, kernel_size // 2]\n",
    "                    result[y, x] = blurred_pixel\n",
    "\n",
    "    return result"
   ]
  },
  {
   "cell_type": "code",
   "execution_count": 40,
   "metadata": {},
   "outputs": [
    {
     "data": {
      "text/plain": [
       "True"
      ]
     },
     "execution_count": 40,
     "metadata": {},
     "output_type": "execute_result"
    }
   ],
   "source": [
    "def custom_median_dilate_with_kernel_and_mask(image, mask, kernel_size, tolerance):\n",
    "    height, width, _ = image.shape\n",
    "    result = np.copy(image)  # Create a copy of the original image\n",
    "    \n",
    "    # Create a histogram-like kernel to filter out peaks\n",
    "    kernel = np.ones((kernel_size, kernel_size), dtype=np.float32)\n",
    "    kernel[kernel_size // 2, kernel_size // 2] = 0  # Center of the kernel is set to 0\n",
    "    \n",
    "    # Apply the kernel to the image\n",
    "    filtered_image = cv2.filter2D(image, -1, kernel)\n",
    "    \n",
    "    for y in range(height):\n",
    "        for x in range(width):\n",
    "            if mask[y, x] == 255:  # If pixel is in the mask (unwanted)\n",
    "                neighborhood = filtered_image[max(0, y - kernel_size // 2):min(height, y + kernel_size // 2 + 1),\n",
    "                                              max(0, x - kernel_size // 2):min(width, x + kernel_size // 2 + 1)]\n",
    "                if np.all(np.abs(neighborhood - [0, 0, 0]) > tolerance):  # If pixel is not black within tolerance range\n",
    "                    non_black_pixels = neighborhood[np.any(neighborhood != [0, 0, 0], axis=-1)]\n",
    "                    if non_black_pixels.any():  # If there are non-black pixels around\n",
    "                        result[y, x] = np.mean(non_black_pixels, axis=0).astype(np.uint8)\n",
    "                    else:  # If no non-black pixels around, retain black pixel\n",
    "                        result[y, x] = [0, 0, 0]\n",
    "\n",
    "    return result\n",
    "\n",
    "# Usage:\n",
    "custom_kernel_size = 5\n",
    "tolerance = 5\n",
    "result_image_with_kernel_and_mask = custom_median_dilate_with_kernel_and_mask(combined_image, mask, custom_kernel_size, tolerance)\n",
    "\n",
    "# Split and concatenate the images as before\n",
    "split = 350\n",
    "vis = np.concatenate((images[0][:split,:,:], result_image_with_kernel_and_mask[split:,:,:]), axis=0)\n",
    "\n",
    "# Save the result\n",
    "cv2.imwrite(\"combined_no_people_overlaid_with_kernel_and_mask.jpg\", vis)"
   ]
  },
  {
   "cell_type": "code",
   "execution_count": null,
   "metadata": {},
   "outputs": [],
   "source": []
  }
 ],
 "metadata": {
  "kernelspec": {
   "display_name": "Python 3",
   "language": "python",
   "name": "python3"
  },
  "language_info": {
   "codemirror_mode": {
    "name": "ipython",
    "version": 3
   },
   "file_extension": ".py",
   "mimetype": "text/x-python",
   "name": "python",
   "nbconvert_exporter": "python",
   "pygments_lexer": "ipython3",
   "version": "3.11.3"
  }
 },
 "nbformat": 4,
 "nbformat_minor": 2
}
