{
 "cells": [
  {
   "cell_type": "markdown",
   "metadata": {},
   "source": [
    "Wstępny kod z funkcjami, ktorych nie mozemy uzywac, zeby zobaczyc czy wyjdzie"
   ]
  },
  {
   "cell_type": "code",
   "execution_count": 4,
   "metadata": {},
   "outputs": [
    {
     "data": {
      "text/plain": [
       "True"
      ]
     },
     "execution_count": 4,
     "metadata": {},
     "output_type": "execute_result"
    }
   ],
   "source": [
    "import cv2\n",
    "\n",
    "# Ładowanie klasyfikatora Haar Cascade dla detekcji ludzi\n",
    "person_cascade = cv2.CascadeClassifier(cv2.data.haarcascades + 'haarcascade_fullbody.xml')\n",
    "\n",
    "# Funkcja do usuwania ludzi z obrazu\n",
    "def remove_people(image):\n",
    "    gray = cv2.cvtColor(image, cv2.COLOR_BGR2GRAY)\n",
    "    \n",
    "    # Detekcja ludzi na obrazie\n",
    "    people = person_cascade.detectMultiScale(gray, scaleFactor=1.1, minNeighbors=5, minSize=(30, 30))\n",
    "    \n",
    "    # Usunięcie ludzi z obrazu\n",
    "    for (x, y, w, h) in people:\n",
    "        cv2.rectangle(image, (x, y), (x+w, y+h), (0, 0, 0), -1) # Rysowanie prostokąta, który zakryje obszar z ludźmi\n",
    "    \n",
    "    return image\n",
    "\n",
    "# Ładowanie wszystkich 5 obrazów i usuwanie ludzi\n",
    "images = []\n",
    "for i in range(1, 6):\n",
    "    image_path = f\"cathedral/d00{i}.jpg\"\n",
    "    img = cv2.imread(image_path)\n",
    "    img = remove_people(img)\n",
    "    images.append(img)\n",
    "\n",
    "# Obliczanie współrzędnych punktów, w których obrazy zostaną nakładane na siebie\n",
    "height, width, _ = images[0].shape\n",
    "offset_x = width // 2\n",
    "offset_y = height // 2\n",
    "\n",
    "# Nakładanie obrazów na siebie\n",
    "combined_image = images[0]\n",
    "for i in range(1, len(images)):\n",
    "    combined_image = cv2.addWeighted(combined_image, 0.5, images[i], 0.5, 0)\n",
    "\n",
    "# Zapisanie obrazu bez ludzi\n",
    "cv2.imwrite(\"combined_no_people_overlaid.jpg\", combined_image)\n"
   ]
  },
  {
   "cell_type": "code",
   "execution_count": null,
   "metadata": {},
   "outputs": [],
   "source": []
  }
 ],
 "metadata": {
  "kernelspec": {
   "display_name": "Python 3",
   "language": "python",
   "name": "python3"
  },
  "language_info": {
   "codemirror_mode": {
    "name": "ipython",
    "version": 3
   },
   "file_extension": ".py",
   "mimetype": "text/x-python",
   "name": "python",
   "nbconvert_exporter": "python",
   "pygments_lexer": "ipython3",
   "version": "3.12.2"
  }
 },
 "nbformat": 4,
 "nbformat_minor": 2
}
