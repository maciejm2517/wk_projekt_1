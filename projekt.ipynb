{
 "cells": [
  {
   "cell_type": "code",
   "execution_count": 11,
   "metadata": {},
   "outputs": [
    {
     "name": "stdout",
     "output_type": "stream",
     "text": [
      "Nie udało się stworzyć panoramy. Błąd: 3\n"
     ]
    }
   ],
   "source": [
    "import cv2\n",
    "import os\n",
    "\n",
    "def create_panorama(image_dir, output_file):\n",
    "    filenames = [f\"NQIMG_0{num}.PNG\" for num in range(257, 264) if num != 262]\n",
    "    images = []\n",
    "    for filename in filenames:\n",
    "        path = os.path.join(image_dir, filename)\n",
    "        if os.path.exists(path):\n",
    "            img = cv2.imread(path)\n",
    "            if img is not None:\n",
    "                images.append(img)\n",
    "            else:\n",
    "                print(f\"Nie udało się wczytać pliku: {path}\")\n",
    "        else:\n",
    "            print(f\"Plik nie istnieje: {path}\")\n",
    "\n",
    "    stitcher = cv2.Stitcher_create()\n",
    "    \n",
    "    # Zmień parametr pokaźności (confidence)\n",
    "    stitcher.setPanoConfidenceThresh(0.1)  # Zmień wartość parametru według potrzeb\n",
    "\n",
    "    status, panorama = stitcher.stitch(images)\n",
    "    \n",
    "    if status == cv2.Stitcher_OK:\n",
    "        print(\"Panorama stworzona pomyślnie!\")\n",
    "        cv2.imwrite(output_file, panorama)\n",
    "        cv2.imshow(\"Panorama\", panorama)\n",
    "        cv2.waitKey(0)\n",
    "        cv2.destroyAllWindows()\n",
    "    else:\n",
    "        print(\"Nie udało się stworzyć panoramy. Błąd:\", status)\n",
    "\n",
    "image_directory = 'pano'\n",
    "output_panorama = 'panorama.png'\n",
    "\n",
    "create_panorama(image_directory, output_panorama)"
   ]
  }
 ],
 "metadata": {
  "kernelspec": {
   "display_name": "Python 3",
   "language": "python",
   "name": "python3"
  },
  "language_info": {
   "codemirror_mode": {
    "name": "ipython",
    "version": 3
   },
   "file_extension": ".py",
   "mimetype": "text/x-python",
   "name": "python",
   "nbconvert_exporter": "python",
   "pygments_lexer": "ipython3",
   "version": "3.12.2"
  }
 },
 "nbformat": 4,
 "nbformat_minor": 2
}
