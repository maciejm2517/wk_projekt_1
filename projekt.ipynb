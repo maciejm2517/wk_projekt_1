{
 "cells": [
  {
   "cell_type": "markdown",
   "metadata": {},
   "source": [
    "Wstępny kod z funkcjami, ktorych nie mozemy uzywac, zeby zobaczyc czy wyjdzie"
   ]
  },
  {
   "cell_type": "code",
   "execution_count": 27,
   "metadata": {},
   "outputs": [
    {
     "name": "stdout",
     "output_type": "stream",
     "text": [
      "good\n"
     ]
    },
    {
     "data": {
      "text/plain": [
       "True"
      ]
     },
     "execution_count": 27,
     "metadata": {},
     "output_type": "execute_result"
    }
   ],
   "source": [
    "import cv2\n",
    "import numpy as np\n",
    "\n",
    "# Ładowanie wszystkich 5 obrazów i usuwanie ludzi\n",
    "images = []\n",
    "for i in range(1, 6):\n",
    "    image_path = f\"cathedral/d00{i}.jpg\"\n",
    "    img = cv2.imread(image_path)\n",
    "    images.append(img)\n",
    "\n",
    "# Obliczanie współrzędnych punktów, w których obrazy zostaną nakładane na siebie\n",
    "height, width, _ = images[0].shape\n",
    "combined_image = np.zeros((height, width, 3), dtype=np.uint8)\n",
    "kernel = np.ones((4, 4), np.uint8) \n",
    "\n",
    "\n",
    "# Znajdowanie najczęstszego piksela dla każdego piksela pomiędzy obrazami\n",
    "for y in range(height):\n",
    "    for x in range(width):\n",
    "        pixel_values = [tuple(img[y, x]) for img in images]\n",
    "        most_frequent_value = max(set(pixel_values), key=pixel_values.count)\n",
    "        combined_image[y, x] = most_frequent_value\n",
    "print('good')\n",
    "# Calculate histogram of the combined image\n",
    "histogram = cv2.calcHist([combined_image], [0, 1, 2], None, [256, 256, 256], [0, 256, 0, 256, 0, 256])\n",
    "\n",
    "# Find the peak(s) in the histogram\n",
    "peaks = np.where(histogram > np.max(histogram) * 0.007) #Mozna pobawic sie jak duze peaki ma wylapywac zmieniajac liczbe ktora mnozymy, dobre sa z zakresu 0.01 - 0.004\n",
    "\n",
    "# Customized mask based on color similarity \n",
    "# testowa maska ktora probuje brac pod uwage podobienstwo kolorow, bardzo powolna i nawet nie zdazylem jej odpalic\n",
    "\n",
    "mask = np.zeros((height, width), dtype=np.uint8)\n",
    "\n",
    "# Threshold the image based on the peak values \n",
    "#prosta maska ktora tylko usuwa peaki, dziala okej\n",
    "mask = np.zeros((height, width), dtype=np.uint8)\n",
    "for i in range(len(peaks[0])):\n",
    "    mask[np.where((combined_image[:, :, 0] == peaks[0][i]) & (combined_image[:, :, 1] == peaks[1][i]) & (combined_image[:, :, 2] == peaks[2][i]))] = 255\n",
    "\n",
    "# Apply the mask to remove unwanted pixels\n",
    "result_image = cv2.bitwise_and(combined_image, combined_image, mask=mask)\n",
    "\n",
    "# Inpainting to replace removed pixels  #ten inpainting slabo mi dzialal takze trzeba zrobic funkcje do wypelniania\n",
    "#result_image = cv2.inpaint(result_image, mask, inpaintRadius=3, flags=cv2.INPAINT_TELEA)\n",
    "\n",
    "# Zapisanie obrazu bez ludzi\n",
    "cv2.imwrite(\"combined_no_people_overlaid.jpg\", cv2.filter2D(cv2.dilate(result_image,kernel), -1,kernel/np.sum(kernel)))\n"
   ]
  },
  {
   "cell_type": "code",
   "execution_count": null,
   "metadata": {},
   "outputs": [],
   "source": []
  }
 ],
 "metadata": {
  "kernelspec": {
   "display_name": "Python 3",
   "language": "python",
   "name": "python3"
  },
  "language_info": {
   "codemirror_mode": {
    "name": "ipython",
    "version": 3
   },
   "file_extension": ".py",
   "mimetype": "text/x-python",
   "name": "python",
   "nbconvert_exporter": "python",
   "pygments_lexer": "ipython3",
   "version": "3.11.4"
  }
 },
 "nbformat": 4,
 "nbformat_minor": 2
}
