{
 "cells": [
  {
   "cell_type": "markdown",
   "metadata": {},
   "source": [
    "Creating a clean plate"
   ]
  },
  {
   "cell_type": "markdown",
   "metadata": {},
   "source": [
    "Zadanie polega wygenerowaniu obrazu katedry bez przechodzących ludzi na podstawie wielu obrazów wejściowych. \n",
    "\n",
    "Do wykonania tego zadania zostały wykorzystane takie operacje na obrazach jak wyliczenie histogramu, utworzenie i nałożenie maski, znalezienie najczęściej występujących pixeli. Dodatkowo została utworzona funkcja obliczająca dylatacje dla wybranych pixeli z obrazu. "
   ]
  },
  {
   "cell_type": "markdown",
   "metadata": {},
   "source": [
    "Lista kroków:\n",
    "\n",
    "1) Załaduj wszystkie obrazy\n",
    "2) Znajdź najczęściej występujące pixele w obrazach i utwórz z nich obraz pomocniczy 'combined_image'\n",
    "3) Wyznacz histogram z 'combined_image'\n",
    "4) Znajdź wartości szczytowe histogramu, które są większe od wartości maksymalnej histogramu, przeskalowanej o współczynnik skalujący\n",
    "5) Utwórz maskę na podstawie wartości szczytowych histogramu\n",
    "6) Utwórz obraz 'masked_image' na podstawie nałożenia maski na 'combined_image'\n",
    "7) Przeprowadź operacje dylatacji dla czarnych pixeli za pomocą funkcji custom_median_dilate() i zapisz go jako 'masked_image_dil_mean'\n",
    "8) Połącz drugi obraz wejściowy z obrazem 'result_image_dil_mean' i zapisz jako 'final_result'"
   ]
  },
  {
   "cell_type": "code",
   "execution_count": 27,
   "metadata": {},
   "outputs": [],
   "source": [
    "# import bibliotek\n",
    "import cv2\n",
    "import numpy as np"
   ]
  },
  {
   "cell_type": "code",
   "execution_count": 28,
   "metadata": {},
   "outputs": [],
   "source": [
    "def custom_median_dilate(image, kernel_size, tolerance=30):\n",
    "    \"\"\"\n",
    "    Funkcja do obliczania dylatacji na podstawie obrazu wejściowego.\n",
    "    Dla każdego czarnego pixela w pewnym zakresie tolerancji wyznacza średnią na podstawie wszystkich nieczarnych pixeli w swoim otoczeniu.\n",
    "    \"\"\"\n",
    "    height, width, _ = image.shape\n",
    "    result = np.copy(image) \n",
    "\n",
    "    for y in range(height):\n",
    "        for x in range(width):\n",
    "            if np.all(np.abs(image[y, x] - [0, 0, 0]) <= tolerance):  # sprawdź czy pixel jest w zakresie tolerancji\n",
    "                neighborhood = image[max(0, y - kernel_size):min(height, y + kernel_size + 1),\n",
    "                                        max(0, x - kernel_size):min(width, x + kernel_size + 1)]\n",
    "                non_black_pixels = neighborhood[~np.all(np.abs(neighborhood - [0, 0, 0]) <= tolerance, axis=-1)] #sprawdz które pixele w sasiedztwie są nieczarne\n",
    "                if non_black_pixels.size > 0:\n",
    "                    result[y, x] = np.median(non_black_pixels, axis=0).astype(np.uint8) #wyznacz mediane ze wszystkich nieczarnych pixeli\n",
    "    image[:] = result \n",
    "\n",
    "    return result"
   ]
  },
  {
   "cell_type": "code",
   "execution_count": 31,
   "metadata": {},
   "outputs": [
    {
     "data": {
      "text/plain": [
       "True"
      ]
     },
     "execution_count": 31,
     "metadata": {},
     "output_type": "execute_result"
    }
   ],
   "source": [
    "# Ładowanie wszystkich 5 obrazów i usuwanie ludzi\n",
    "images = [cv2.imread(f\"cathedral/d00{i}.jpg\") for i in range(1, 6)]\n",
    "\n",
    "# Obliczanie współrzędnych punktów, w których obrazy zostaną nakładane na siebie\n",
    "height, width, _ = images[0].shape\n",
    "combined_image = np.zeros((height, width, 3), dtype=np.uint8)\n",
    "kernel = np.ones((4, 4), np.uint8) \n",
    "\n",
    "\n",
    "# Znajdowanie najczęstszego piksela dla każdego piksela pomiędzy obrazami oraz utworzenie obrazu z najczęściej występujących pixeli\n",
    "for y in range(height):\n",
    "    for x in range(width):\n",
    "        pixel_values = [tuple(img[y, x]) for img in images]\n",
    "        most_frequent_value = max(set(pixel_values), key=pixel_values.count)\n",
    "        combined_image[y, x] = most_frequent_value\n",
    "\n",
    "cv2.imwrite(\"combined_image.jpg\", combined_image)\n",
    "\n",
    "# Wyznaczenie histogramu utworzonego zdjęcia\n",
    "histogram = cv2.calcHist([combined_image], [0, 1, 2], None, [256, 256, 256], [0, 256, 0, 256, 0, 256])\n",
    "\n",
    "# Znaleźć szczyty histogramu\n",
    "threshold=0.007\n",
    "peaks = np.where(histogram > np.max(histogram) * threshold) #Mozna zmieniac liczbe przez ktora mnoże się max, dobre sa z zakresu 0.01 - 0.004\n",
    "\n",
    "# Utworzenie maski na podstawie szczytów histogramu\n",
    "mask = np.zeros((height, width), dtype=np.uint8)\n",
    "for i in range(len(peaks[0])):\n",
    "    mask[np.where((combined_image[:, :, 0] == peaks[0][i]) & (combined_image[:, :, 1] == peaks[1][i]) & (combined_image[:, :, 2] == peaks[2][i]))] = 255\n",
    "\n",
    "# Nałożenie maski w celu wykrycia pozostałych pixeli ze złączonego zdjęcia\n",
    "masked_image = cv2.bitwise_and(combined_image, combined_image, mask=mask)\n",
    "\n",
    "cv2.imwrite(\"result_image.jpg\", masked_image)\n",
    "# Wykorzystanie własnej funkcji dylatacji\n",
    "custom_kernel_size = 4\n",
    "tolerance = 35\n",
    "#najlepiej dla tolerance 35, kernel 4\n",
    "masked_image_dil_mean = custom_median_dilate(masked_image, custom_kernel_size, tolerance= tolerance)\n",
    "cv2.imwrite(\"result_image_dil_mean.jpg\", masked_image_dil_mean)\n",
    "\n",
    "# Połączenie górnej części zdjęcia katedry bez ludzi z dolną częścią na której dokonano dylatacji\n",
    "split=350\n",
    "final_result = np.concatenate((images[1][:split,:,:], masked_image_dil_mean[split:,:,:]), axis=0)\n",
    "\n",
    "cv2.imwrite(\"final_result.jpg\", final_result)"
   ]
  }
 ],
 "metadata": {
  "kernelspec": {
   "display_name": "Python 3",
   "language": "python",
   "name": "python3"
  },
  "language_info": {
   "codemirror_mode": {
    "name": "ipython",
    "version": 3
   },
   "file_extension": ".py",
   "mimetype": "text/x-python",
   "name": "python",
   "nbconvert_exporter": "python",
   "pygments_lexer": "ipython3",
   "version": "3.11.4"
  }
 },
 "nbformat": 4,
 "nbformat_minor": 2
}
